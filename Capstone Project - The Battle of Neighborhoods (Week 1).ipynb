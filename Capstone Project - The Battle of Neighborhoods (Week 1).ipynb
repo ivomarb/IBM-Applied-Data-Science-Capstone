{
 "cells": [
  {
   "cell_type": "markdown",
   "metadata": {},
   "source": [
    "# Introduction/Business Problem"
   ]
  },
  {
   "cell_type": "markdown",
   "metadata": {},
   "source": [
    "The problem to be discussed in this data project is to compare the cities of New York and Toronto, which of them clustered in their respective neighborhoods. Both cities are very diverse and the financial capitals of their respective countries. Both neighborhoods will be compared and will dertermine how similar or dissimilar they are. For that the type and number of venues found on both cities will be compared, such as: the number of venues will be compared, the number of venus per category, the 10 most common venue categories and if a given venue name appear in both cities. The target audience are Foursquare users visiting both cities who are interested in such type of information. Users visiting a given city are often interested in the distribution of venues in that city. Finally, users who have visited or will visit both Toronto and New York City are interested in such study."
   ]
  },
  {
   "cell_type": "markdown",
   "metadata": {},
   "source": [
    "# Data"
   ]
  },
  {
   "cell_type": "markdown",
   "metadata": {},
   "source": [
    "To perform this data science study, Foursquare location data will be used. Mainly the location of each city given\n",
    "by its latitude and longitude, the venues that are found within a given radius of 500 for the given location of the city limiting the number of returned venues by 100 (this data will be retrieved by quering foursquare API). To limit the scope of the study, only the entries that contains the strings New York and Toronto in the Borough section of the dataset will be considered. The neighborhoods will be clustered into 5 clusters each."
   ]
  },
  {
   "cell_type": "code",
   "execution_count": null,
   "metadata": {},
   "outputs": [],
   "source": []
  }
 ],
 "metadata": {
  "kernelspec": {
   "display_name": "Python 3",
   "language": "python",
   "name": "python3"
  },
  "language_info": {
   "codemirror_mode": {
    "name": "ipython",
    "version": 3
   },
   "file_extension": ".py",
   "mimetype": "text/x-python",
   "name": "python",
   "nbconvert_exporter": "python",
   "pygments_lexer": "ipython3",
   "version": "3.8.2"
  }
 },
 "nbformat": 4,
 "nbformat_minor": 4
}
